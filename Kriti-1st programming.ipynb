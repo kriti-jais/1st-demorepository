{
 "cells": [
  {
   "cell_type": "code",
   "execution_count": 2,
   "id": "757bffde",
   "metadata": {},
   "outputs": [
    {
     "name": "stdout",
     "output_type": "stream",
     "text": [
      "Shritika\n"
     ]
    }
   ],
   "source": [
    "print('Shritika')"
   ]
  },
  {
   "cell_type": "code",
   "execution_count": 3,
   "id": "c51b886f",
   "metadata": {},
   "outputs": [
    {
     "name": "stdout",
     "output_type": "stream",
     "text": [
      "Shritika\n"
     ]
    }
   ],
   "source": [
    "print(\"Shritika\")"
   ]
  },
  {
   "cell_type": "code",
   "execution_count": 4,
   "id": "83d9b505",
   "metadata": {},
   "outputs": [
    {
     "name": "stdout",
     "output_type": "stream",
     "text": [
      "Mother's Name\n"
     ]
    }
   ],
   "source": [
    "print(\"Mother's Name\")"
   ]
  },
  {
   "cell_type": "code",
   "execution_count": 7,
   "id": "5b649421",
   "metadata": {},
   "outputs": [
    {
     "name": "stdout",
     "output_type": "stream",
     "text": [
      "20\n"
     ]
    }
   ],
   "source": [
    "x=20\n",
    "print(x)"
   ]
  },
  {
   "cell_type": "code",
   "execution_count": 8,
   "id": "ddf07432",
   "metadata": {},
   "outputs": [
    {
     "name": "stdout",
     "output_type": "stream",
     "text": [
      "x\n"
     ]
    }
   ],
   "source": [
    "print('x')"
   ]
  },
  {
   "cell_type": "code",
   "execution_count": 11,
   "id": "00b095f3",
   "metadata": {},
   "outputs": [
    {
     "name": "stdout",
     "output_type": "stream",
     "text": [
      "Mother's Name\n"
     ]
    }
   ],
   "source": [
    "print(\"Mother's Name\")"
   ]
  },
  {
   "cell_type": "code",
   "execution_count": 15,
   "id": "2e7b1931",
   "metadata": {},
   "outputs": [
    {
     "name": "stdout",
     "output_type": "stream",
     "text": [
      "value of A= 20\n"
     ]
    }
   ],
   "source": [
    "print('value of A=', x)"
   ]
  },
  {
   "cell_type": "code",
   "execution_count": 19,
   "id": "c13f014c",
   "metadata": {},
   "outputs": [
    {
     "name": "stdout",
     "output_type": "stream",
     "text": [
      "10\n"
     ]
    }
   ],
   "source": [
    "y=10\n",
    "print(x-y)"
   ]
  },
  {
   "cell_type": "code",
   "execution_count": null,
   "id": "2ddebf01",
   "metadata": {},
   "outputs": [],
   "source": []
  }
 ],
 "metadata": {
  "kernelspec": {
   "display_name": "Python 3 (ipykernel)",
   "language": "python",
   "name": "python3"
  },
  "language_info": {
   "codemirror_mode": {
    "name": "ipython",
    "version": 3
   },
   "file_extension": ".py",
   "mimetype": "text/x-python",
   "name": "python",
   "nbconvert_exporter": "python",
   "pygments_lexer": "ipython3",
   "version": "3.9.7"
  }
 },
 "nbformat": 4,
 "nbformat_minor": 5
}
